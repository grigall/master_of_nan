{
 "cells": [
  {
   "cell_type": "code",
   "execution_count": 1,
   "id": "e03ed994",
   "metadata": {},
   "outputs": [
    {
     "data": {
      "text/plain": [
       "['https://www.ssa.gov/oact/babynames/decades/names1940s.html',\n",
       " 'https://www.ssa.gov/oact/babynames/decades/names1950s.html',\n",
       " 'https://www.ssa.gov/oact/babynames/decades/names1960s.html',\n",
       " 'https://www.ssa.gov/oact/babynames/decades/names1970s.html',\n",
       " 'https://www.ssa.gov/oact/babynames/decades/names1980s.html',\n",
       " 'https://www.ssa.gov/oact/babynames/decades/names1990s.html',\n",
       " 'https://www.ssa.gov/oact/babynames/decades/names2000s.html',\n",
       " 'https://www.ssa.gov/oact/babynames/decades/names2010s.html']"
      ]
     },
     "execution_count": 1,
     "metadata": {},
     "output_type": "execute_result"
    }
   ],
   "source": [
    "import os\n",
    "import re\n",
    "import numpy as np\n",
    "import pandas as pd\n",
    "import ssl\n",
    "\n",
    "#Base URL for example\n",
    "url = 'https://www.ssa.gov/oact/babynames/decades/names1950s.html'\n",
    "\n",
    "#Generator for dynamic URLs\n",
    "url_list = []\n",
    "for year in list(map(str, np.arange(1940,2020, 10))):\n",
    "    new_url = 'https://www.ssa.gov/oact/babynames/decades/names'+year+'s.html'\n",
    "    url_list.append(new_url)\n",
    "    \n",
    "#Insurance for web scraper\n",
    "ssl.create_default_https_context = ssl._create_unverified_context\n",
    "\n",
    "#Scrape name tables from website\n",
    "table_list = []\n",
    "for my_url in url_list:\n",
    "    new_table = pd.read_html(my_url)\n",
    "    table_list.append(new_table)\n",
    "    \n",
    "#Check table schema\n",
    "#for table in range(0,8):\n",
    "    #print(table_list[table][0].columns.tolist()) #DEBUG\n",
    "    \n",
    "#Create DataFrame and concatenate tables together\n",
    "new_names = pd.DataFrame(None)\n",
    "\n",
    "for table in range(0, len(table_list)):\n",
    "    new_names = pd.concat([new_names, table_list[table][0].iloc[:(len(table_list[table][0])-1), [1,3]]], axis=0, ignore_index=True)\n",
    "\n",
    "#len(new_names) #DEBUG\n",
    "\n",
    "#Pull all names into one list and add sexes\n",
    "new_names.columns = ['M', 'F']\n",
    "df_male = pd.DataFrame(set(new_names.M), columns=['First_Name'])\n",
    "df_male['Sex'] = 'M'\n",
    "df_female = pd.DataFrame(set(new_names.F), columns=['First_Name'])\n",
    "df_female['Sex'] = 'F'\n",
    "df_first_names = pd.concat([df_male, df_female], axis=0) #Add name dfs togethers\n",
    "df_first_names.reset_index(inplace=True, drop=True) #Reset index to include total number of names\n",
    "\n",
    "#Collect surnames from the internet\n",
    "surname_url = 'https://en.wikipedia.org/wiki/List_of_most_common_surnames_in_North_America'\n",
    "\n",
    "surname_tables = pd.read_html(surname_url)\n",
    "\n",
    "#Pull surnames into one DataFrame\n",
    "df_surnames = pd.DataFrame(None)\n",
    "\n",
    "for t in surname_tables:\n",
    "    if 'Name' in t.columns.tolist():\n",
    "        df_surnames = pd.concat([df_surnames, t.loc[:, ['Name']]], axis=0)\n",
    "    elif  'Surname' in t.columns.tolist():\n",
    "        df_surnames = pd.concat([df_surnames, t.loc[:, ['Surname']]], axis=0)\n",
    "    else:\n",
    "        pass\n",
    "    \n",
    "df_surnames.reset_index(inplace=True, drop=True) #Reset index\n",
    "\n",
    "#Collapse columns\n",
    "new_surnames = []\n",
    "for idx in df_surnames.index:\n",
    "    for col in df_surnames.columns:\n",
    "        if type(df_surnames.loc[idx, col]) == str:\n",
    "            new_surnames.append(df_surnames.loc[idx, col])\n",
    "        else:\n",
    "            pass\n",
    "        \n",
    "df_last_names = pd.DataFrame(new_surnames, columns=['Last_Name'])\n",
    "\n",
    "#Output files to CSV\n",
    "#df_first_names.to_csv('First_Names.csv', index=False, sep='\\t')\n",
    "#df_last_names.to_csv('Last_Names.csv', index=False, sep='\\t')"
   ]
  },
  {
   "cell_type": "code",
   "execution_count": null,
   "id": "cc3fa03d",
   "metadata": {},
   "outputs": [],
   "source": []
  }
 ],
 "metadata": {
  "kernelspec": {
   "display_name": "Python 3 (ipykernel)",
   "language": "python",
   "name": "python3"
  },
  "language_info": {
   "codemirror_mode": {
    "name": "ipython",
    "version": 3
   },
   "file_extension": ".py",
   "mimetype": "text/x-python",
   "name": "python",
   "nbconvert_exporter": "python",
   "pygments_lexer": "ipython3",
   "version": "3.10.6"
  }
 },
 "nbformat": 4,
 "nbformat_minor": 5
}

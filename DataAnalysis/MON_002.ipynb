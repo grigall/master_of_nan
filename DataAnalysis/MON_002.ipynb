{
 "cells": [
  {
   "cell_type": "code",
   "execution_count": 1,
   "id": "aa613729",
   "metadata": {},
   "outputs": [],
   "source": [
    "import os\n",
    "import re\n",
    "import numpy as np\n",
    "import pandas as pd\n",
    "import random\n",
    "\n",
    "PATH = os.getcwd() #Root directory for your project\n",
    "\n",
    "#FILE_LIST = os.listdir()\n",
    "\n",
    "#Specify Employee/Customer ceiling\n",
    "total_people = 40000\n",
    "\n",
    "#File Import\n",
    "df_first_names = pd.read_csv(PATH + '\\\\First_Names.csv', sep='\\t')\n",
    "df_last_names = pd.read_csv(PATH + '\\\\Last_Names.csv', sep='\\t')\n",
    "\n",
    "#Remove stuff from sets\n",
    "bad_idx = set()\n",
    "for idx in df_last_names.index.tolist():\n",
    "    if 'total' in df_last_names.Last_Name[idx].lower():\n",
    "        bad_idx.add(idx)\n",
    "    else:\n",
    "        pass\n",
    "new_idx = list(set(df_last_names.index.tolist())-bad_idx)\n",
    "df_last_names = df_last_names.loc[new_idx, :]\n",
    "df_last_names.reset_index(inplace=True, drop=True)\n",
    "\n",
    "fn_1 = [df_first_names.First_Name[random.randint(0,len(df_first_names)-1)] for i in range(total_people)]\n",
    "ln_1 = [df_last_names.Last_Name[random.randint(0,len(df_last_names)-1)] for i in range(total_people)]\n",
    "\n",
    "employee = pd.concat([pd.DataFrame(ln_1, columns=['Last_Name']), pd.DataFrame(fn_1, columns=['First_Name'])], axis=1) #convert lists to DataFrames and concatenate together\n",
    "df_employees = pd.merge(employee, df_first_names, how='left', left_on='First_Name', right_on='First_Name') #Add sexes based on first names\n",
    "df_employees.drop_duplicates(inplace=True) #Drop Duplicates\n",
    "\n",
    "eid_list = [random.randint(4444, 999999) for i in range((total_people*1.5))] #Generate random EIDs\n",
    "eid_set = set(eid_list) #Drop duplicate EIDs\n",
    "\n",
    "df_employees['EID'] = [i for i in list(eid_set)[:len(df_employees)]] #Add EIDs to people\n",
    "\n",
    "df_employees.to_csv('All_Employees.csv', encoding='utf-8', sep='\\t') #Output to file\n",
    "\n",
    "### Create Customers\n",
    "\n",
    "#df_employees['Customer_ID'] = np.arange(0,len(df_employees))\n",
    "#df_employees.to_csv('All_Customers.csv', encoding='utf-8', sep='\\t')"
   ]
  }
 ],
 "metadata": {
  "kernelspec": {
   "display_name": "Python 3 (ipykernel)",
   "language": "python",
   "name": "python3"
  },
  "language_info": {
   "codemirror_mode": {
    "name": "ipython",
    "version": 3
   },
   "file_extension": ".py",
   "mimetype": "text/x-python",
   "name": "python",
   "nbconvert_exporter": "python",
   "pygments_lexer": "ipython3",
   "version": "3.10.6"
  }
 },
 "nbformat": 4,
 "nbformat_minor": 5
}

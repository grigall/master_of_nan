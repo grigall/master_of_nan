{
 "cells": [
  {
   "cell_type": "code",
   "execution_count": 1,
   "id": "7e92799e",
   "metadata": {},
   "outputs": [
    {
     "data": {
      "text/html": [
       "<div>\n",
       "<style scoped>\n",
       "    .dataframe tbody tr th:only-of-type {\n",
       "        vertical-align: middle;\n",
       "    }\n",
       "\n",
       "    .dataframe tbody tr th {\n",
       "        vertical-align: top;\n",
       "    }\n",
       "\n",
       "    .dataframe thead th {\n",
       "        text-align: right;\n",
       "    }\n",
       "</style>\n",
       "<table border=\"1\" class=\"dataframe\">\n",
       "  <thead>\n",
       "    <tr style=\"text-align: right;\">\n",
       "      <th></th>\n",
       "      <th>EID</th>\n",
       "      <th>Course_ID</th>\n",
       "      <th>Course_Name</th>\n",
       "      <th>Course_Hours</th>\n",
       "      <th>Course_Date</th>\n",
       "      <th>Last_Name</th>\n",
       "      <th>First_Name</th>\n",
       "      <th>Sex</th>\n",
       "    </tr>\n",
       "  </thead>\n",
       "  <tbody>\n",
       "    <tr>\n",
       "      <th>0</th>\n",
       "      <td>4801</td>\n",
       "      <td>500</td>\n",
       "      <td>What Does this Button Do?</td>\n",
       "      <td>4</td>\n",
       "      <td>2012-03-07</td>\n",
       "      <td>Reyes</td>\n",
       "      <td>Violet</td>\n",
       "      <td>F</td>\n",
       "    </tr>\n",
       "    <tr>\n",
       "      <th>1</th>\n",
       "      <td>4801</td>\n",
       "      <td>400</td>\n",
       "      <td>Smart Phones and Dumb People: Know Your Audience</td>\n",
       "      <td>3</td>\n",
       "      <td>2011-02-17</td>\n",
       "      <td>Reyes</td>\n",
       "      <td>Violet</td>\n",
       "      <td>F</td>\n",
       "    </tr>\n",
       "    <tr>\n",
       "      <th>2</th>\n",
       "      <td>4801</td>\n",
       "      <td>700</td>\n",
       "      <td>Emotional Intelligence for Employees</td>\n",
       "      <td>3</td>\n",
       "      <td>2020-08-20</td>\n",
       "      <td>Reyes</td>\n",
       "      <td>Violet</td>\n",
       "      <td>F</td>\n",
       "    </tr>\n",
       "    <tr>\n",
       "      <th>3</th>\n",
       "      <td>4801</td>\n",
       "      <td>400</td>\n",
       "      <td>Smart Phones and Dumb People: Know Your Audience</td>\n",
       "      <td>3</td>\n",
       "      <td>2019-10-02</td>\n",
       "      <td>Reyes</td>\n",
       "      <td>Violet</td>\n",
       "      <td>F</td>\n",
       "    </tr>\n",
       "    <tr>\n",
       "      <th>4</th>\n",
       "      <td>4801</td>\n",
       "      <td>100</td>\n",
       "      <td>Chemtrails and Tin-foil Hats: How to Turn Cons...</td>\n",
       "      <td>3</td>\n",
       "      <td>2022-12-11</td>\n",
       "      <td>Reyes</td>\n",
       "      <td>Violet</td>\n",
       "      <td>F</td>\n",
       "    </tr>\n",
       "  </tbody>\n",
       "</table>\n",
       "</div>"
      ],
      "text/plain": [
       "    EID  Course_ID                                        Course_Name  \\\n",
       "0  4801        500                          What Does this Button Do?   \n",
       "1  4801        400   Smart Phones and Dumb People: Know Your Audience   \n",
       "2  4801        700               Emotional Intelligence for Employees   \n",
       "3  4801        400   Smart Phones and Dumb People: Know Your Audience   \n",
       "4  4801        100  Chemtrails and Tin-foil Hats: How to Turn Cons...   \n",
       "\n",
       "   Course_Hours Course_Date Last_Name First_Name Sex  \n",
       "0             4  2012-03-07     Reyes     Violet   F  \n",
       "1             3  2011-02-17     Reyes     Violet   F  \n",
       "2             3  2020-08-20     Reyes     Violet   F  \n",
       "3             3  2019-10-02     Reyes     Violet   F  \n",
       "4             3  2022-12-11     Reyes     Violet   F  "
      ]
     },
     "execution_count": 1,
     "metadata": {},
     "output_type": "execute_result"
    }
   ],
   "source": [
    "'''\n",
    "#Merge all files into one\n",
    "employees = pd.read_csv(PATH+'\\\\All_Employees.csv', sep='\\t')\n",
    "ch = pd.read_csv(PATH+'\\\\Course_History.csv', sep='\\t')\n",
    "cd = pd.read_csv(PATH+'\\\\Course_Definitions.csv', sep='\\t')\n",
    "\n",
    "print(len(employees))\n",
    "print(len(ch))\n",
    "print(len(cd))\n",
    "all_info = pd.merge(ch, cd, how='left', left_on='Course_ID', right_on='Course_ID')\n",
    "all_info = pd.merge(all_info, employees, how='left', left_on='EID', right_on='EID')\n",
    "\n",
    "print(len(all_info))\n",
    "all_info.head()\n",
    "'''\n",
    "\n",
    "'''\n",
    "#Do some basic analysis\n",
    "#data.Course_Hours.describe()\n",
    "course_ct = data.loc[:, ['EID', 'Course_ID']].groupby(['EID']).count()\n",
    "#course_ct.describe()\n",
    "hrs_per_emp = data.loc[:, ['EID', 'Course_Hours']].groupby(['EID']).sum()\n",
    "#hrs_per_emp\n",
    "'''\n",
    "\n",
    "import os\n",
    "import numpy as np\n",
    "import pandas as pd\n",
    "import random as rnd\n",
    "\n",
    "PATH = os.getcwd()\n",
    "\n",
    "data = pd.read_csv(PATH+'\\\\Horizen_All.txt', sep='\\t')\n",
    "data.head()"
   ]
  },
  {
   "cell_type": "code",
   "execution_count": 32,
   "id": "da7fa66f",
   "metadata": {},
   "outputs": [],
   "source": [
    "def insert_nans(dataframe, tgt_col, error_pct):\n",
    "    df = dataframe.copy()\n",
    "    \n",
    "    #Set error percent and total error integer\n",
    "    error_total = int(round((error_pct * len(df)),0))\n",
    "\n",
    "    \n",
    "    #Isolate target column\n",
    "    tgt_column = df.loc[:, [tgt_col]]\n",
    "    \n",
    "    #Set index to save and index to insert nans\n",
    "    error_idx = rnd.sample(df.index.tolist(), error_total, counts=None)\n",
    "    good_idx = list(set(tgt_column.index.tolist()) - set(error_idx))\n",
    "    assert len(good_idx) + len(error_idx) == len(df) #DEBUG\n",
    "    \n",
    "    #Separate columns by index\n",
    "    nan_column = tgt_column.iloc[error_idx, :]\n",
    "    good_column = tgt_column.iloc[good_idx, :]\n",
    "    \n",
    "    #Set all values in NaN column to NaN\n",
    "    nan_column.iloc[:] = np.nan\n",
    "    \n",
    "    #Rejoin columns\n",
    "    final_column = pd.concat([good_column, nan_column], axis=0)\n",
    "    assert len(final_column) == len(df) #DEBUG\n",
    "    \n",
    "    #Insert finished column into dataframe\n",
    "    df.loc[:, [tgt_col]] = final_column\n",
    "    \n",
    "    return df"
   ]
  },
  {
   "cell_type": "code",
   "execution_count": 33,
   "id": "ae541419",
   "metadata": {},
   "outputs": [
    {
     "name": "stderr",
     "output_type": "stream",
     "text": [
      "C:\\Users\\ML2021\\AppData\\Local\\Temp\\ipykernel_31516\\1609731591.py:21: SettingWithCopyWarning: \n",
      "A value is trying to be set on a copy of a slice from a DataFrame\n",
      "\n",
      "See the caveats in the documentation: https://pandas.pydata.org/pandas-docs/stable/user_guide/indexing.html#returning-a-view-versus-a-copy\n",
      "  nan_column.iloc[:] = np.nan\n"
     ]
    },
    {
     "data": {
      "text/plain": [
       "11540"
      ]
     },
     "execution_count": 33,
     "metadata": {},
     "output_type": "execute_result"
    }
   ],
   "source": [
    "#Modify Course Date column\n",
    "df_new = insert_nans(data, 'Course_Date', 0.1)\n",
    "len(df_new)"
   ]
  },
  {
   "cell_type": "code",
   "execution_count": 40,
   "id": "d1c0323f",
   "metadata": {},
   "outputs": [
    {
     "name": "stderr",
     "output_type": "stream",
     "text": [
      "C:\\Users\\ML2021\\AppData\\Local\\Temp\\ipykernel_31516\\1609731591.py:21: SettingWithCopyWarning: \n",
      "A value is trying to be set on a copy of a slice from a DataFrame.\n",
      "Try using .loc[row_indexer,col_indexer] = value instead\n",
      "\n",
      "See the caveats in the documentation: https://pandas.pydata.org/pandas-docs/stable/user_guide/indexing.html#returning-a-view-versus-a-copy\n",
      "  nan_column.iloc[:] = np.nan\n"
     ]
    },
    {
     "data": {
      "text/plain": [
       "11540"
      ]
     },
     "execution_count": 40,
     "metadata": {},
     "output_type": "execute_result"
    }
   ],
   "source": [
    "#Modify Course Hours column\n",
    "df_new_2 = insert_nans(df_new, 'Course_Hours', 0.05)\n",
    "len(df_new_2)"
   ]
  },
  {
   "cell_type": "code",
   "execution_count": 41,
   "id": "102a001a",
   "metadata": {},
   "outputs": [],
   "source": [
    "#Output to file\n",
    "df_new_2.to_csv('Horizen_All_w_Nans.csv', sep='\\t', index=False, encoding='utf-8')"
   ]
  },
  {
   "cell_type": "code",
   "execution_count": null,
   "id": "fb254841",
   "metadata": {},
   "outputs": [],
   "source": []
  }
 ],
 "metadata": {
  "kernelspec": {
   "display_name": "Python 3.9.0 64-bit",
   "language": "python",
   "name": "python3"
  },
  "language_info": {
   "codemirror_mode": {
    "name": "ipython",
    "version": 3
   },
   "file_extension": ".py",
   "mimetype": "text/x-python",
   "name": "python",
   "nbconvert_exporter": "python",
   "pygments_lexer": "ipython3",
   "version": "3.9.0"
  },
  "vscode": {
   "interpreter": {
    "hash": "81794d4967e6c3204c66dcd87b604927b115b27c00565d3d43f05ba2f3a2cb0d"
   }
  }
 },
 "nbformat": 4,
 "nbformat_minor": 5
}
